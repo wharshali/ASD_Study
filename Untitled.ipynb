{
 "cells": [
  {
   "cell_type": "code",
   "execution_count": 3,
   "metadata": {
    "collapsed": true
   },
   "outputs": [],
   "source": [
    "import random\n",
    "LIST_OF_MOVIES = ['Better Call Saul', 'Clueless', '500 Days of Summer', 'LOTR3', 'Batman Beyond', 'Dirty Dancing', 'Perfect Blue', \n",
    "                  'Avatar TLA', 'Mean Girls', 'Ferris Bueller', 'The Thick of it', 'Mad Men! >:(', 'Battlestar Galactica', 'Star Wars', 'Rogue One', 'Iron Giant', 'Hannibal', 'Arrested Development', 'Nolan Batman']\n",
    "\n",
    "\n",
    "#spits out movie\n",
    "\n",
    "def generate_movie():\n",
    "    return random.choice(LIST_OF_MOVIES)\n",
    "\n",
    "\n",
    "def add_movie(movie):\n",
    "    LIST_OF_MOVIES.append(movie)"
   ]
  },
  {
   "cell_type": "code",
   "execution_count": 5,
   "metadata": {
    "collapsed": false
   },
   "outputs": [
    {
     "data": {
      "text/plain": [
       "'500 Days of Summer'"
      ]
     },
     "execution_count": 5,
     "metadata": {},
     "output_type": "execute_result"
    }
   ],
   "source": [
    "generate_movie()"
   ]
  },
  {
   "cell_type": "code",
   "execution_count": 6,
   "metadata": {
    "collapsed": true
   },
   "outputs": [],
   "source": [
    "add_movie('Ratatouille')"
   ]
  },
  {
   "cell_type": "code",
   "execution_count": null,
   "metadata": {
    "collapsed": true
   },
   "outputs": [],
   "source": []
  }
 ],
 "metadata": {
  "kernelspec": {
   "display_name": "Python 2",
   "language": "python",
   "name": "python2"
  },
  "language_info": {
   "codemirror_mode": {
    "name": "ipython",
    "version": 2
   },
   "file_extension": ".py",
   "mimetype": "text/x-python",
   "name": "python",
   "nbconvert_exporter": "python",
   "pygments_lexer": "ipython2",
   "version": "2.7.13"
  }
 },
 "nbformat": 4,
 "nbformat_minor": 2
}
